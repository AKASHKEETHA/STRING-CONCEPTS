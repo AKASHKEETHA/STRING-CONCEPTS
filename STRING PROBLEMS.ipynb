{
 "cells": [
  {
   "cell_type": "code",
   "execution_count": null,
   "metadata": {},
   "outputs": [],
   "source": [
    "#Create a string made of the first, middle and last character\n",
    "s=input('ENTER THE STRING:')\n",
    "a=len(s)\n",
    "if a%2!=0:\n",
    "    x=a//2\n",
    "    ns=s[0]+s[x]+s[a-1]\n",
    "else:\n",
    "    ns=s[0]+s[x-1]+s[a-1]\n",
    "print(ns)\n",
    "    \n"
   ]
  },
  {
   "cell_type": "code",
   "execution_count": 3,
   "metadata": {},
   "outputs": [
    {
     "name": "stdout",
     "output_type": "stream",
     "text": [
      "ENTER THE STRING:JOHNDIPPETA\n",
      "DIP\n"
     ]
    }
   ],
   "source": [
    "#Create a string made of the middle three characters\n",
    "s=input('ENTER THE STRING:')\n",
    "a=len(s)\n",
    "x=a//2\n",
    "if a%2!=0:\n",
    "   \n",
    "    ns=s[x-1]+s[x]+s[x+1]\n",
    "else:\n",
    "    ns=s[x-1]+s[x]+s[x+1]\n",
    "print(ns)"
   ]
  },
  {
   "cell_type": "code",
   "execution_count": null,
   "metadata": {},
   "outputs": [],
   "source": [
    "#Append new string in the middle of a given string\n",
    "s=input('ENTER THE STRING:')\n",
    "s1=input('ENTER THE STRING')\n",
    "a=len(s)\n",
    "x=a//2\n",
    "if a%2!=0:\n",
    "    ns=s[0:x]+s1+s[x]+s[x+1:]\n",
    "else:\n",
    "    ns=s[0:x]+s1+s[x:]\n",
    "print(ns)\n",
    "    "
   ]
  },
  {
   "cell_type": "code",
   "execution_count": null,
   "metadata": {},
   "outputs": [],
   "source": [
    "#Create a new string made of the first, middle, and last characters of each input string\n",
    "s1=input('enter a string1')\n",
    "s2=input('enter a string2')\n",
    "ls1=len(s1)\n",
    "ls2=len(s2)\n",
    "ms1=ls1//2\n",
    "ms2=ls2//2\n",
    "ns1=s1[0]+s1[ms1]+s1[ls1-1]\n",
    "ns2=s2[0]+s2[ms2]+s2[ls2-1]\n",
    "ns=ns1+ns2\n",
    "print(ns)\n",
    "print(type(ns))\n",
    "        \n"
   ]
  },
  {
   "cell_type": "code",
   "execution_count": null,
   "metadata": {},
   "outputs": [],
   "source": [
    "# Arrange string characters such that lowercase letters should come first\n",
    "l=[]\n",
    "ns=''\n",
    "s=input('ENTER A STRING')\n",
    "for i in range(len(s)):\n",
    "    l.append(s[i])\n",
    "l.sort()\n",
    "for i in range(len(l)):\n",
    "    ns=l[i]+ns\n",
    "print(ns)"
   ]
  },
  {
   "cell_type": "code",
   "execution_count": 7,
   "metadata": {},
   "outputs": [
    {
     "name": "stdout",
     "output_type": "stream",
     "text": [
      "ENTER A STRINGPyNaTive\n",
      "yaivePNT\n"
     ]
    }
   ],
   "source": [
    "# Arrange string characters such that lowercase letters should come first\n",
    "\n",
    "lc=''\n",
    "uc=''\n",
    "s=input('ENTER A STRING')\n",
    "for i in range(len(s)):\n",
    "    if    97<=ord(s[i])<=122:\n",
    "        lc=lc+s[i]\n",
    "    else:\n",
    "        uc=uc+s[i]\n",
    "ns=lc+uc\n",
    "        \n",
    "print(ns)"
   ]
  },
  {
   "cell_type": "code",
   "execution_count": 8,
   "metadata": {},
   "outputs": [
    {
     "name": "stdout",
     "output_type": "stream",
     "text": [
      "Enter any stringAk123@sh\n",
      "4 3 1\n"
     ]
    }
   ],
   "source": [
    "#Count all letters, digits, and special symbols from a given string\n",
    "cl=0\n",
    "cd=0\n",
    "cs=0\n",
    "n=input('Enter any string')\n",
    "for i in n:\n",
    "    if i.isalpha():\n",
    "        cl=cl+1\n",
    "    elif i.isdigit():\n",
    "        cd=cd+1\n",
    "    else:\n",
    "        cs=cs+1\n",
    "print(cl,cd,cs)"
   ]
  },
  {
   "cell_type": "code",
   "execution_count": 2,
   "metadata": {},
   "outputs": [
    {
     "name": "stdout",
     "output_type": "stream",
     "text": [
      "ENTER THE STRING1akash\n",
      "ENTER THE STRING2var\n",
      "arkaavsh\n"
     ]
    }
   ],
   "source": [
    "#Given two strings, s1 and s2. Write a program to create a new string \n",
    "#s3 made of the first char of s1, then the last char of s2, Next, the second char of s1 and second last \n",
    "#char of s2, and so on. Any leftover chars go at the end of the result.\n",
    "s1=input('ENTER THE STRING1')\n",
    "s2=input('ENTER THE STRING2')\n",
    "l1=len(s1)\n",
    "l2=len(s2)\n",
    "\n",
    "if l1>l2:\n",
    "    l=l1\n",
    "else:\n",
    "    l=l2\n",
    "s=''\n",
    "s3=s2[::-1]\n",
    "for i in range(l):\n",
    "    if i<len(s1):\n",
    "        s=s+s1[i]\n",
    "    if i<len(s3):\n",
    "        s=s+s3[i]\n",
    "print(s)"
   ]
  },
  {
   "cell_type": "code",
   "execution_count": 26,
   "metadata": {},
   "outputs": [],
   "source": [
    "for i in s1:\n",
    "    s=s+i\n",
    "    for k in s3:               #PENDING\n",
    "        s=s+k\n",
    "        break"
   ]
  },
  {
   "cell_type": "code",
   "execution_count": 9,
   "metadata": {},
   "outputs": [
    {
     "name": "stdout",
     "output_type": "stream",
     "text": [
      "ENTER ANY STRING1akash\n",
      "ENTER ANY STRING1varma\n",
      "No\n"
     ]
    }
   ],
   "source": [
    "#Write a program to check if two strings are balanced. For example, strings s1 and s2 are \n",
    "#balanced if all the characters in the s1 are present in s2. The character’s position doesn’t matter.\n",
    "s1=input('ENTER ANY STRING1')\n",
    "s2=input('ENTER ANY STRING1')\n",
    "x=True\n",
    "if len(s1)<len(s2):\n",
    "    s=s1\n",
    "    s3=s2\n",
    "else:\n",
    "    s=s2\n",
    "    s3=s1\n",
    "for i in s:\n",
    "    if i in s3:\n",
    "        continue\n",
    "    else:\n",
    "        x=False\n",
    "if x==False:\n",
    "    print('No')\n",
    "else:\n",
    "    print('YES')\n"
   ]
  },
  {
   "cell_type": "code",
   "execution_count": 2,
   "metadata": {},
   "outputs": [
    {
     "name": "stdout",
     "output_type": "stream",
     "text": [
      "ENTER THE STRINGakash Akash varmaAKASH\n",
      "ENTER SUB STRINGakash\n",
      "3\n"
     ]
    }
   ],
   "source": [
    "#Find all occurrences of a substring in a given string by ignoring the case\n",
    "s=input('ENTER THE STRING')\n",
    "x=s.lower()\n",
    "print(x.count(input('ENTER SUB STRING')))"
   ]
  },
  {
   "cell_type": "code",
   "execution_count": 5,
   "metadata": {},
   "outputs": [
    {
     "name": "stdout",
     "output_type": "stream",
     "text": [
      "ENTER THE STRINGakash123akash\n",
      "6\n",
      "2.0\n"
     ]
    }
   ],
   "source": [
    "#Calculate the sum and average of the digits present in a string\n",
    "sum=0\n",
    "count=0\n",
    "s=input('ENTER THE STRING')\n",
    "for i in s:\n",
    "    if i.isdigit():\n",
    "        count=count+1\n",
    "        sum=sum+int(i)\n",
    "print(sum)\n",
    "print(sum/count)\n",
    "        "
   ]
  },
  {
   "cell_type": "code",
   "execution_count": 29,
   "metadata": {},
   "outputs": [
    {
     "name": "stdout",
     "output_type": "stream",
     "text": [
      "ENTER THE STRINGaaakash\n",
      "s 1\n",
      "k 1\n",
      "a 1\n",
      "h 1\n"
     ]
    }
   ],
   "source": [
    "#Write a program to count occurrences of all characters within a string\n",
    "s=input('ENTER THE STRING')\n",
    "s1=set(s)\n",
    "l=list(s1)\n",
    "for i in l:                         #dictionary concept\n",
    "    print(i,l.count(i))"
   ]
  },
  {
   "cell_type": "code",
   "execution_count": 36,
   "metadata": {},
   "outputs": [
    {
     "name": "stdout",
     "output_type": "stream",
     "text": [
      "enter any stringGANESH\n",
      "HSENAG\n"
     ]
    }
   ],
   "source": [
    "# Reverse a given string\n",
    "s=input('enter any string')\n",
    "#''.join(reversed(s))\n",
    "#print(s)\n",
    "print(s[::-1])"
   ]
  },
  {
   "cell_type": "code",
   "execution_count": 37,
   "metadata": {},
   "outputs": [
    {
     "name": "stdout",
     "output_type": "stream",
     "text": [
      "enter the stringakash i am akash from akash inakash\n",
      "enter the stringakash\n"
     ]
    },
    {
     "data": {
      "text/plain": [
       "30"
      ]
     },
     "execution_count": 37,
     "metadata": {},
     "output_type": "execute_result"
    }
   ],
   "source": [
    "#Find the last position of a given substring\n",
    "s=input('enter the string')\n",
    "s.rfind(input('enter the string'))#gives the  last substring index position"
   ]
  },
  {
   "cell_type": "code",
   "execution_count": 39,
   "metadata": {},
   "outputs": [
    {
     "name": "stdout",
     "output_type": "stream",
     "text": [
      "enter the stringa-k-a-s-h-v-a-r-m-a\n",
      "a\n",
      "k\n",
      "a\n",
      "s\n",
      "h\n",
      "v\n",
      "a\n",
      "r\n",
      "m\n",
      "a\n"
     ]
    }
   ],
   "source": [
    "#Split a string on hyphens\n",
    "s=input('enter the string')\n",
    "x=(s.split(sep='-'))\n",
    "for i in x:\n",
    "    print(i)"
   ]
  },
  {
   "cell_type": "code",
   "execution_count": 47,
   "metadata": {},
   "outputs": [
    {
     "name": "stdout",
     "output_type": "stream",
     "text": [
      "enter no of elements in list4\n",
      "enter the stringsakash\n",
      "enter the strings \n",
      "enter the stringsvarma\n",
      "enter the strings \n",
      "['akash', 'varma']\n"
     ]
    }
   ],
   "source": [
    "# Remove empty strings from a list of strings\n",
    "n=int(input('enter no of elements in list'))\n",
    "l=[]\n",
    "for i in range(n):\n",
    "    l.append(input('enter the strings'))\n",
    "for i in l:\n",
    "    if i==' ':\n",
    "        l.remove(' ')\n",
    "print(l)\n"
   ]
  },
  {
   "cell_type": "code",
   "execution_count": 53,
   "metadata": {},
   "outputs": [
    {
     "name": "stdout",
     "output_type": "stream",
     "text": [
      "enter the string/*Jon is @developer & musician\n",
      "Jon is developer  musician\n"
     ]
    }
   ],
   "source": [
    "#Remove special symbols / punctuation from a string\n",
    "s=input('enter the string')\n",
    "s1=''\n",
    "for i in s:\n",
    "    if i.isalpha():\n",
    "        s1=s1+i\n",
    "    if i==' ':\n",
    "        s1=s1+i\n",
    "print(s1)\n",
    "    \n",
    "        "
   ]
  },
  {
   "cell_type": "code",
   "execution_count": 54,
   "metadata": {},
   "outputs": [
    {
     "name": "stdout",
     "output_type": "stream",
     "text": [
      "enter any stringI am 25 years and 10 months old\n",
      "2510\n"
     ]
    }
   ],
   "source": [
    "#Removal all characters from a string except integers\n",
    "s=input('enter any string')\n",
    "s1=''\n",
    "for i in s:\n",
    "    if i.isdigit():\n",
    "        s1=s1+i\n",
    "print(s1)\n"
   ]
  },
  {
   "cell_type": "code",
   "execution_count": 5,
   "metadata": {},
   "outputs": [
    {
     "name": "stdout",
     "output_type": "stream",
     "text": [
      "enter the stringaksh1233 vrma qevw123\n",
      "aksh1233\n",
      "aksh1233qevw123\n"
     ]
    }
   ],
   "source": [
    "#Find words with both alphabets and numbers\n",
    "s=input('enter the string')\n",
    "l=s.split()\n",
    "s1=''\n",
    "for i in l:\n",
    "    if i.isalpha():\n",
    "        continue\n",
    "    else:\n",
    "        s1=s1+i\n",
    "        print(s1)\n",
    "            \n",
    "            \n",
    "        "
   ]
  },
  {
   "cell_type": "code",
   "execution_count": 26,
   "metadata": {},
   "outputs": [
    {
     "name": "stdout",
     "output_type": "stream",
     "text": [
      "enter the string/*Jon is @developer & musician!!\n",
      "##Jon is #developer # musician##\n"
     ]
    }
   ],
   "source": [
    "# Replace each special symbol with # in the following string\n",
    "s=input('enter the string')\n",
    "for i in s:\n",
    "    if i.isalpha():\n",
    "        continue\n",
    "    elif i.isdigit():\n",
    "        continue\n",
    "    elif i==\" \":\n",
    "        continue\n",
    "    else:\n",
    "        s=s.replace(i,'#')\n",
    "print(s)\n",
    "\n",
    "    "
   ]
  },
  {
   "cell_type": "code",
   "execution_count": null,
   "metadata": {},
   "outputs": [],
   "source": []
  }
 ],
 "metadata": {
  "kernelspec": {
   "display_name": "Python 3",
   "language": "python",
   "name": "python3"
  },
  "language_info": {
   "codemirror_mode": {
    "name": "ipython",
    "version": 3
   },
   "file_extension": ".py",
   "mimetype": "text/x-python",
   "name": "python",
   "nbconvert_exporter": "python",
   "pygments_lexer": "ipython3",
   "version": "3.7.4"
  }
 },
 "nbformat": 4,
 "nbformat_minor": 2
}
