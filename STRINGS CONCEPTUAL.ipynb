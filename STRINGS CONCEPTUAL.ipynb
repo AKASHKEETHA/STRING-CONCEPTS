{
 "cells": [
  {
   "cell_type": "code",
   "execution_count": 12,
   "metadata": {},
   "outputs": [
    {
     "name": "stdout",
     "output_type": "stream",
     "text": [
      "H   A   R   D   W   O   R   K       i   s       T   H   E       K   E   Y       t   o       s   U   c   e   s   s   "
     ]
    }
   ],
   "source": [
    "#slicing in string:\n",
    "s='HARDWORK is THE KEY to sUcess'\n",
    "a=len(s)\n",
    "#print(s)\n",
    "s[0:]\n",
    "s[a-1::-1]#reversees the string\n",
    "s[::-1]#reverse the string.\n",
    "\n"
   ]
  },
  {
   "cell_type": "code",
   "execution_count": 14,
   "metadata": {},
   "outputs": [
    {
     "name": "stdout",
     "output_type": "stream",
     "text": [
      "H   A   R   D   W   O   R   K       i   s       T   H   E       K   E   Y       t   o       s   U   c   e   s   s   \n",
      "H   A   R   D   W   O   R   K       i   s       T   H   E       K   E   Y       t   o       s   U   c   e   s   s   "
     ]
    }
   ],
   "source": [
    "#printing all elements in a string\n",
    "for i in s:\n",
    "    print(i,end=\"   \")\n",
    "#-------------\n",
    "print()\n",
    "for i in range(len(s)):\n",
    "    print(s[i],end=\"   \")"
   ]
  },
  {
   "cell_type": "code",
   "execution_count": 18,
   "metadata": {},
   "outputs": [],
   "source": [
    "#string manipulation\n",
    "s[0]='a'#strings are immutable.."
   ]
  },
  {
   "cell_type": "code",
   "execution_count": 80,
   "metadata": {},
   "outputs": [
    {
     "data": {
      "text/plain": [
       "'abcdefghijklmn'"
      ]
     },
     "execution_count": 80,
     "metadata": {},
     "output_type": "execute_result"
    }
   ],
   "source": [
    "#concatenation\n",
    "s='abcdefg'\n",
    "s1='hijklmn'\n",
    "s+s1\n",
    "#REPLICATION\n",
    "s*2"
   ]
  },
  {
   "cell_type": "code",
   "execution_count": 35,
   "metadata": {},
   "outputs": [
    {
     "name": "stdout",
     "output_type": "stream",
     "text": [
      "3\n",
      "4\n",
      "5\n",
      "6\n"
     ]
    }
   ],
   "source": [
    "#concepts of manipulation\n",
    "s='my name is akash and my full name is akashvarma'\n",
    "x=s.find('name')#find() returns the index value of 1 occurence of character /substring..IF NOT FOUND RETURNS -1\n",
    "#print(x)\n",
    "a=len('name')\n",
    "#print(a)\n",
    "for i in range(a):\n",
    "    print(x+i)"
   ]
  },
  {
   "cell_type": "code",
   "execution_count": 42,
   "metadata": {},
   "outputs": [
    {
     "data": {
      "text/plain": [
       "'MY NAME IS AKASH AND MY FULL NAME IS AKASHVARMA'"
      ]
     },
     "execution_count": 42,
     "metadata": {},
     "output_type": "execute_result"
    }
   ],
   "source": [
    "s\n",
    "s.count('name')#count function returns the no of occurences of a character or substing.IF NOT FOUND RETURNS 0\n",
    "s.lower()#lower() converts every character to loweercase\n",
    "s.upper()#upper() converts every character to uppercase\n"
   ]
  },
  {
   "cell_type": "code",
   "execution_count": 43,
   "metadata": {},
   "outputs": [
    {
     "data": {
      "text/plain": [
       "'my Name IS aKASH '"
      ]
     },
     "execution_count": 43,
     "metadata": {},
     "output_type": "execute_result"
    }
   ],
   "source": [
    "s='MY nAME is Akash '\n",
    "s.swapcase()#converts lowercase to upper and upper to lower case"
   ]
  },
  {
   "cell_type": "code",
   "execution_count": 47,
   "metadata": {},
   "outputs": [
    {
     "data": {
      "text/plain": [
       "'M#Y# #n#A#M#E# #i#s# #A#k#a#s#h# '"
      ]
     },
     "execution_count": 47,
     "metadata": {},
     "output_type": "execute_result"
    }
   ],
   "source": [
    "\"#\".join(s)#appends the string that u r givng after every character"
   ]
  },
  {
   "cell_type": "code",
   "execution_count": 55,
   "metadata": {},
   "outputs": [
    {
     "data": {
      "text/plain": [
       "[' ',\n",
       " 'h',\n",
       " 's',\n",
       " 'a',\n",
       " 'k',\n",
       " 'A',\n",
       " ' ',\n",
       " 's',\n",
       " 'i',\n",
       " ' ',\n",
       " 'E',\n",
       " 'M',\n",
       " 'A',\n",
       " 'n',\n",
       " ' ',\n",
       " 'Y',\n",
       " 'M']"
      ]
     },
     "execution_count": 55,
     "metadata": {},
     "output_type": "execute_result"
    }
   ],
   "source": [
    "s\n",
    "list(reversed(s))"
   ]
  },
  {
   "cell_type": "code",
   "execution_count": 59,
   "metadata": {},
   "outputs": [
    {
     "data": {
      "text/plain": [
       "'akash asas asasa'"
      ]
     },
     "execution_count": 59,
     "metadata": {},
     "output_type": "execute_result"
    }
   ],
   "source": [
    "s='  akash  asas asasa  '\n",
    "s.strip()#removes the spacses preset before starting of first character in string and all spaces after last cxharacter in string\n"
   ]
  },
  {
   "cell_type": "code",
   "execution_count": 62,
   "metadata": {},
   "outputs": [
    {
     "data": {
      "text/plain": [
       "'akash asas asasa  '"
      ]
     },
     "execution_count": 62,
     "metadata": {},
     "output_type": "execute_result"
    }
   ],
   "source": [
    "s\n",
    "s.lstrip()#removes spaces at beginning\n",
    "s.rstrip()#removes spaces at end\n"
   ]
  },
  {
   "cell_type": "code",
   "execution_count": 67,
   "metadata": {},
   "outputs": [
    {
     "data": {
      "text/plain": [
       "' # #a#k#a#s#h# #a#s#a#s# #a#s#a#s#a# # '"
      ]
     },
     "execution_count": 67,
     "metadata": {},
     "output_type": "execute_result"
    }
   ],
   "source": [
    "\"#\".join(s)"
   ]
  },
  {
   "cell_type": "code",
   "execution_count": 68,
   "metadata": {},
   "outputs": [
    {
     "data": {
      "text/plain": [
       "'  varmakvarmash varmasvarmas varmasvarmasvarma  '"
      ]
     },
     "execution_count": 68,
     "metadata": {},
     "output_type": "execute_result"
    }
   ],
   "source": [
    "s.replace('a','varma')"
   ]
  },
  {
   "cell_type": "code",
   "execution_count": 70,
   "metadata": {},
   "outputs": [
    {
     "data": {
      "text/plain": [
       "'A'"
      ]
     },
     "execution_count": 70,
     "metadata": {},
     "output_type": "execute_result"
    }
   ],
   "source": [
    "ord('a')#gives the ascii value\n",
    "chr(65)#gives the character value"
   ]
  },
  {
   "cell_type": "code",
   "execution_count": 1,
   "metadata": {},
   "outputs": [
    {
     "data": {
      "text/plain": [
       "'I Am Coming'"
      ]
     },
     "execution_count": 1,
     "metadata": {},
     "output_type": "execute_result"
    }
   ],
   "source": [
    "a='i am coming'\n",
    "a.title()#every substring's 1st character will be converted to capital\n",
    "#a.capitalize()#capitalizes only first substring character and converts every substring starting character lo loweer case"
   ]
  },
  {
   "cell_type": "code",
   "execution_count": 77,
   "metadata": {},
   "outputs": [
    {
     "name": "stdout",
     "output_type": "stream",
     "text": [
      "My name is james bond\n"
     ]
    }
   ],
   "source": [
    "str = \"my name is James Bond\";\n",
    "print (str.capitalize())"
   ]
  },
  {
   "cell_type": "code",
   "execution_count": 78,
   "metadata": {},
   "outputs": [
    {
     "name": "stdout",
     "output_type": "stream",
     "text": [
      "False\n",
      "True\n"
     ]
    }
   ],
   "source": [
    "str1 = \"My salary is 7000\";\n",
    "str2 = \"7000\"\n",
    "\n",
    "print(str1.isdigit())#finds whether the charcaters of string are digiots are not\n",
    "print(str2.isdigit())\n"
   ]
  },
  {
   "cell_type": "code",
   "execution_count": 2,
   "metadata": {},
   "outputs": [
    {
     "name": "stdout",
     "output_type": "stream",
     "text": [
      "True\n",
      "True\n",
      "true\n"
     ]
    }
   ],
   "source": [
    "myString = \"pynative\"\n",
    "stringList = [\"abc\", \"pynative\", \"xyz\"]\n",
    "\n",
    "print(stringList[1] == myString)\n",
    "print(stringList[1] is myString)\n",
    "#if myString in stringList:\n",
    "    print('true')"
   ]
  },
  {
   "cell_type": "code",
   "execution_count": 84,
   "metadata": {},
   "outputs": [
    {
     "name": "stdout",
     "output_type": "stream",
     "text": [
      "Enter the stringAkash\n",
      "False\n",
      "true\n",
      "true\n",
      "true\n",
      "true\n"
     ]
    }
   ],
   "source": [
    "str=input('Enter the string')\n",
    "for i in str:\n",
    "    if i.islower():#checks weather all characters are loweer or not\n",
    "        print('true')\n",
    "    elif i.isupper():#checks whtr all characters are upper or not\n",
    "        print('False')"
   ]
  },
  {
   "cell_type": "code",
   "execution_count": 86,
   "metadata": {},
   "outputs": [
    {
     "name": "stdout",
     "output_type": "stream",
     "text": [
      "ENTER ANY STRINGAka123@!@#\n",
      "is alpha\n",
      "is alpha\n",
      "is alpha\n",
      "is digit\n",
      "is digit\n",
      "is digit\n",
      "spcl.char\n",
      "spcl.char\n",
      "spcl.char\n",
      "spcl.char\n"
     ]
    }
   ],
   "source": [
    "str=input('ENTER ANY STRING')\n",
    "for i in str:\n",
    "    if i.isdigit():\n",
    "        print('is digit')\n",
    "    elif i.isalpha():\n",
    "        print('is alpha')\n",
    "    else:\n",
    "        print('spcl.char')"
   ]
  },
  {
   "cell_type": "code",
   "execution_count": 3,
   "metadata": {},
   "outputs": [
    {
     "data": {
      "text/plain": [
       "str"
      ]
     },
     "execution_count": 3,
     "metadata": {},
     "output_type": "execute_result"
    }
   ],
   "source": [
    "x=str()\n",
    "type(x)"
   ]
  },
  {
   "cell_type": "code",
   "execution_count": null,
   "metadata": {},
   "outputs": [],
   "source": []
  }
 ],
 "metadata": {
  "kernelspec": {
   "display_name": "Python 3",
   "language": "python",
   "name": "python3"
  },
  "language_info": {
   "codemirror_mode": {
    "name": "ipython",
    "version": 3
   },
   "file_extension": ".py",
   "mimetype": "text/x-python",
   "name": "python",
   "nbconvert_exporter": "python",
   "pygments_lexer": "ipython3",
   "version": "3.7.4"
  }
 },
 "nbformat": 4,
 "nbformat_minor": 2
}
